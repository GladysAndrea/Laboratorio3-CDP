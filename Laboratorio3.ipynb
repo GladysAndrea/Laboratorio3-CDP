{
 "cells": [
  {
   "cell_type": "markdown",
   "metadata": {
    "id": "fegyifTswXOK"
   },
   "source": [
    "# _Laboratorio 3_\n",
    "\n",
    "##### **Sandra Anabelly Ramos Mutaz**\n",
    "##### **Gladys Andrea Rodríguez Guerrero**"
   ]
  },
  {
   "cell_type": "markdown",
   "metadata": {
    "id": "ms8BtrOxwXOR"
   },
   "source": [
    "## Parte 1"
   ]
  },
  {
   "cell_type": "markdown",
   "metadata": {
    "id": "qQvlY0YrwXOR"
   },
   "source": [
    "### Ejercicio 1:\n",
    "\n",
    "Programa que recibe de parámetro un número de segundos y que despliegue en pantalla, las horas, minutos y segundos que representan"
   ]
  },
  {
   "cell_type": "code",
   "execution_count": null,
   "metadata": {
    "colab": {
     "base_uri": "https://localhost:8080/"
    },
    "id": "qsAIMpYpwXOS",
    "outputId": "06cae3cf-97ca-429c-c841-0bdf94b0fc07"
   },
   "outputs": [
    {
     "name": "stdout",
     "output_type": "stream",
     "text": [
      "Ingrese los segundos: 2743\n",
      "\n",
      "0  horas  45  minutos  43  segundos \n"
     ]
    }
   ],
   "source": [
    "try: \n",
    "  seg = int(input(\"Ingrese los segundos: \"))\n",
    "  print(\"\")\n",
    "  \n",
    "  hora = int(seg /(60*60))\n",
    "  seg = seg % (60*60)\n",
    "  minu = int(seg /60)\n",
    "  seg = int(seg % 60)\n",
    "\n",
    "  print(hora, \" horas \", minu, \" minutos \", seg, \" segundos \")\n",
    "\n",
    "except(ValueError):\n",
    "  print(\"\")\n",
    "  print(\"Datos no validos\")"
   ]
  },
  {
   "cell_type": "markdown",
   "metadata": {
    "id": "0c79E_ypwXOU"
   },
   "source": [
    "### Ejercicio 2:\n",
    "\n",
    "Haga una función que dado un numero entre 1 y 20. Y un carácter cualquiera\n",
    "despliegue cuatro patrones triangulares"
   ]
  },
  {
   "cell_type": "code",
   "execution_count": null,
   "metadata": {
    "id": "qP8wXOP-wXOU",
    "outputId": "651aa04d-3f96-4d66-e1ee-e5aa9fb8cc84"
   },
   "outputs": [
    {
     "name": "stdin",
     "output_type": "stream",
     "text": [
      "Ingrese un número:  5\n",
      "Carácter a utilizar:  $\n"
     ]
    },
    {
     "name": "stdout",
     "output_type": "stream",
     "text": [
      "\n",
      "$\n",
      "$$\n",
      "$$$\n",
      "$$$$\n",
      "$$$$$\n",
      "     \n",
      "    $\n",
      "   $$\n",
      "  $$$\n",
      " $$$$\n",
      "$$$$$\n",
      "\n",
      "$$$$$\n",
      "$$$$ \n",
      "$$$  \n",
      "$$   \n",
      "$    \n",
      "\n",
      "$$$$$\n",
      " $$$$\n",
      "  $$$\n",
      "   $$\n",
      "    $\n",
      "\n"
     ]
    }
   ],
   "source": [
    "numero = int(input(\"Ingrese un número: \"))\n",
    "caracter = input(\"Carácter a utilizar: \")\n",
    "\n",
    "\n",
    "for i in range(numero+1):\n",
    "    print(caracter*i)\n",
    "\n",
    "for i in range(numero+1):\n",
    "    espacio = numero - i\n",
    "    print(' ' * espacio + caracter * i)\n",
    "print(\"\")\n",
    "for i in range(numero,0,-1):\n",
    "    espacio = numero - i\n",
    "    print(caracter * i + ' ' * espacio)\n",
    "    \n",
    "print(\"\")\n",
    "\n",
    "for i in range(numero,0,-1):\n",
    "    espacio = numero - i\n",
    "    print(' ' * espacio + caracter * i)\n",
    "    \n",
    "print(\"\")"
   ]
  },
  {
   "cell_type": "code",
   "execution_count": null,
   "metadata": {
    "colab": {
     "base_uri": "https://localhost:8080/"
    },
    "id": "XmQMAw_dwXOV",
    "outputId": "145f0e4f-0736-41d7-b696-82fc5675563f"
   },
   "outputs": [
    {
     "name": "stdout",
     "output_type": "stream",
     "text": [
      "Ingrese un número: 5\n",
      "Carácter a utilizar: *\n",
      "*\n",
      "**\n",
      "***\n",
      "****\n",
      "*****\n",
      "     \n",
      "    *\n",
      "   **\n",
      "  ***\n",
      " ****\n",
      "*****\n",
      "\n",
      "*****\n",
      "**** \n",
      "***  \n",
      "**   \n",
      "*    \n",
      "\n",
      "*****\n",
      " ****\n",
      "  ***\n",
      "   **\n",
      "    *\n"
     ]
    }
   ],
   "source": [
    "def triangulo1 (numero,caracter):\n",
    "      for i in range(1,numero+1,1):\n",
    "          print(caracter*i)\n",
    "\n",
    "def triangulo2 (numero,caracter):\n",
    "      for i in range(numero+1):\n",
    "          espacio = numero - i\n",
    "          print(' ' * espacio + caracter * i)\n",
    "          \n",
    "def triangulo3 (numero,caracter):\n",
    "      for i in range(numero,0,-1):\n",
    "          espacio = numero - i\n",
    "          print(caracter * i + ' ' * espacio)\n",
    "      \n",
    "def triangulo4 (numero,caracter):\n",
    "      for i in range(numero,0,-1):\n",
    "          espacio = numero - i\n",
    "          print(' ' * espacio + caracter * i)\n",
    "\n",
    "try:\n",
    "    numero = int(input(\"Ingrese un número: \"))\n",
    "    caracter = input(\"Carácter a utilizar: \")\n",
    "    \n",
    "    if((numero >= 1) & (numero <= 20)):\n",
    "\n",
    "      triangulo1(numero,caracter)\n",
    "      triangulo2(numero,caracter)\n",
    "      print(\"\")\n",
    "      triangulo3(numero,caracter)\n",
    "      print(\"\")\n",
    "      triangulo4(numero,caracter)\n",
    "    else:\n",
    "      print(\"No es un valor entre 1 - 20\")\n",
    "\n",
    "except(ValueError):\n",
    "  print(\"\")\n",
    "  print(\"Datos no validos\")\n"
   ]
  },
  {
   "cell_type": "markdown",
   "metadata": {
    "id": "3lComB9ewXOV"
   },
   "source": [
    "### Ejercicio 3:\n",
    "\n",
    "Programa dado que la fecha de nacimiento de una persona, despliegue la edad de la persona en años, meses y días."
   ]
  },
  {
   "cell_type": "code",
   "execution_count": null,
   "metadata": {
    "colab": {
     "base_uri": "https://localhost:8080/"
    },
    "id": "d-7iBSJKwXOV",
    "outputId": "674339a0-05dc-4fa8-c95e-252c3e12e5bc"
   },
   "outputs": [
    {
     "name": "stdout",
     "output_type": "stream",
     "text": [
      "Ingrese una dia: 15\n",
      "Ingrese una mes: 07\n",
      "Ingrese una anio: 2018\n",
      "2  años  7  meses  16 días\n"
     ]
    }
   ],
   "source": [
    "from datetime import date\n",
    "\n",
    "try:\n",
    "  dia = int(input(\"Ingrese una dia: \"))\n",
    "  mes = int(input(\"Ingrese una mes: \"))\n",
    "  anio = int(input(\"Ingrese una anio: \"))\n",
    "\n",
    "  fechaNac = date(anio,mes,dia)\n",
    "  fechaHoy = date.today()\n",
    "  difEdad = fechaHoy - fechaNac\n",
    "  edadAnio = int(difEdad.days/365)\n",
    "\n",
    "  if((fechaNac.month, fechaNac.day) >= (fechaHoy.month, fechaHoy.day)):\n",
    "      edadMes = 12-(fechaNac.month - fechaHoy.month)\n",
    "  else:\n",
    "      edadMes = fechaNac.month - fechaHoy.month\n",
    "      \n",
    "  if((fechaNac.day >= fechaHoy.day) & (fechaHoy.month in (1,3,5,7,8,10,12))):\n",
    "      edadDias = 31 - fechaNac.day\n",
    "      edadMes = edadMes - 1\n",
    "  elif((fechaNac.day >= fechaHoy.day) & (fechaHoy.month in (4,6,9,11))):\n",
    "      edadDias = 30 - fechaNac.day\n",
    "      edadMes = edadMes - 1\n",
    "  else:\n",
    "      edadDias = fechaHoy.day - fechaNac.day - 1\n",
    "\n",
    "  print(edadAnio, \" años \", edadMes, \" meses \", edadDias, \"días\")\n",
    "\n",
    "except(ValueError):\n",
    "  print(\"\")\n",
    "  print(\"Datos no validos\")"
   ]
  },
  {
   "cell_type": "markdown",
   "metadata": {
    "id": "BQa6MIK2wXOW"
   },
   "source": [
    "## Parte 2"
   ]
  },
  {
   "cell_type": "markdown",
   "metadata": {
    "id": "sO3tuM4TwXOW"
   },
   "source": [
    "### Ejercicio 1:\n",
    "\n",
    "Escriba una función en Python que dada una tupla de elementos (numeros o letras) esta se convierta a un string"
   ]
  },
  {
   "cell_type": "code",
   "execution_count": null,
   "metadata": {
    "colab": {
     "base_uri": "https://localhost:8080/"
    },
    "id": "9Sapa-TjwXOW",
    "outputId": "c7fbe7e3-0ac1-4e58-fd15-947f38d481a3"
   },
   "outputs": [
    {
     "name": "stdout",
     "output_type": "stream",
     "text": [
      "102040570\n"
     ]
    }
   ],
   "source": [
    "def string (a):\n",
    "    texto = ''.join(a)\n",
    "    \n",
    "    print(texto)\n",
    "try:\n",
    "  ##a = (10, 20, 40, 5, 70)\n",
    "  a = ('10', '20', '40', '5', '70')\n",
    "  ##a = ('H','o','l','a')\n",
    "\n",
    "  string(a)\n",
    "\n",
    "except(ValueError):\n",
    "  print(\"\")\n",
    "  print(\"Datos no validos\")"
   ]
  },
  {
   "cell_type": "code",
   "execution_count": null,
   "metadata": {
    "colab": {
     "base_uri": "https://localhost:8080/"
    },
    "id": "k88er1Nf83uU",
    "outputId": "b8326105-e797-4d03-d20a-62d84efe1e87"
   },
   "outputs": [
    {
     "name": "stdout",
     "output_type": "stream",
     "text": [
      "python\n"
     ]
    }
   ],
   "source": [
    "def string (a):\r\n",
    "  str = ''\r\n",
    "  for i in a:\r\n",
    "    str = str + i\r\n",
    "  print(str)\r\n",
    "\r\n",
    "try:\r\n",
    "  ##a = (10, 20, 40, 5, 70)\r\n",
    "  ##a = ('10', '20', '40', '5', '70')\r\n",
    "  a = ('p', 'y', 't', 'h', 'o', 'n')\r\n",
    "\r\n",
    "  string(a)\r\n",
    "\r\n",
    "except(ValueError):\r\n",
    "  print(\"\")\r\n",
    "  print(\"Datos no validos\")"
   ]
  },
  {
   "cell_type": "markdown",
   "metadata": {
    "id": "83h2ST43wXOX"
   },
   "source": [
    "### Ejercicio 2:\n",
    "Cree un programa en Python que dada una lista de tuplas, elimine las tuplas que están vacías."
   ]
  },
  {
   "cell_type": "code",
   "execution_count": null,
   "metadata": {
    "colab": {
     "base_uri": "https://localhost:8080/"
    },
    "id": "u1zb0TmtwXOX",
    "outputId": "d77ea872-8a11-4d5e-de8d-3b447c07f744"
   },
   "outputs": [
    {
     "name": "stdout",
     "output_type": "stream",
     "text": [
      "[('X',), ('a', 'b'), ('a', 'b', 'c'), 'd']\n"
     ]
    }
   ],
   "source": [
    "try:\n",
    "  a = [(), (), ('X', ), ('a', 'b'), ('a', 'b', 'c'), ('d')]\n",
    "\n",
    "  a = [t for t in a if t]\n",
    "\n",
    "  print(a)\n",
    "  \n",
    "except(ValueError):\n",
    "  print(\"\")\n",
    "  print(\"Datos no validos\")"
   ]
  },
  {
   "cell_type": "markdown",
   "metadata": {
    "id": "VI2kYU4-FNFq"
   },
   "source": [
    "### Ejercicio 3:\r\n",
    "Cree una función que dada una tupla de tuplas con numeros, produzca una tupla con el promedio de cada tupla individual"
   ]
  },
  {
   "cell_type": "code",
   "execution_count": 38,
   "metadata": {},
   "outputs": [
    {
     "name": "stdout",
     "output_type": "stream",
     "text": [
      "[10.5, 44.0, 58.0]\n"
     ]
    }
   ],
   "source": [
    "lista =  ((10, 10, 10, 12), (30, 45, 56, 45), (81, 80, 39, 32))\n",
    "##lista = [[10, 10, 10, 12], [30, 45, 56, 45], [81, 80, 39, 32]]\n",
    "\n",
    "def promedio(numeros):\n",
    "    promedio = 0\n",
    "    for numero in numeros:\n",
    "        promedio += numero\n",
    "    promedio = promedio / len(numeros)\n",
    "    return promedio \n",
    "\n",
    "salida = []\n",
    "\n",
    "for i in lista:\n",
    "    salida.append(promedio(i))\n",
    "\n",
    "print(salida)"
   ]
  },
  {
   "cell_type": "code",
   "execution_count": null,
   "metadata": {},
   "outputs": [],
   "source": []
  }
 ],
 "metadata": {
  "colab": {
   "name": "Laboratorio3.ipynb",
   "provenance": []
  },
  "kernelspec": {
   "display_name": "Python 3",
   "language": "python",
   "name": "python3"
  },
  "language_info": {
   "codemirror_mode": {
    "name": "ipython",
    "version": 3
   },
   "file_extension": ".py",
   "mimetype": "text/x-python",
   "name": "python",
   "nbconvert_exporter": "python",
   "pygments_lexer": "ipython3",
   "version": "3.8.5"
  }
 },
 "nbformat": 4,
 "nbformat_minor": 4
}
